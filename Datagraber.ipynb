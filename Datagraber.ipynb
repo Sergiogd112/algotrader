{
 "cells": [
  {
   "cell_type": "code",
   "execution_count": 13,
   "metadata": {
    "Collapsed": "false"
   },
   "outputs": [],
   "source": [
    "import urllib3\n",
    "import json\n",
    "import pickle as pk\n",
    "import time\n",
    "from bs4 import BeautifulSoup\n",
    "import datetime\n",
    "import dateutil.relativedelta as dr\n",
    "import pandas as pd\n",
    "from urllib import request"
   ]
  },
  {
   "cell_type": "code",
   "execution_count": 14,
   "metadata": {
    "Collapsed": "false"
   },
   "outputs": [],
   "source": [
    "def get_constituents():\n",
    "    # URL request, URL opener, read content\n",
    "    req = request.Request('http://en.wikipedia.org/wiki/List_of_S%26P_500_companies')\n",
    "    opener = request.urlopen(req)\n",
    "    content = opener.read().decode() # Convert bytes to UTF-8\n",
    "\n",
    "    soup = BeautifulSoup(content)\n",
    "    tables = soup.find_all('table') # HTML table we actually need is tables[0] \n",
    "\n",
    "    external_class = tables[0].findAll('a', {'class':'external text'})\n",
    "\n",
    "    tickers = []\n",
    "\n",
    "    for ext in external_class:\n",
    "        if not 'reports' in ext:\n",
    "            tickers.append(ext.string)\n",
    "\n",
    "    return tickers"
   ]
  },
  {
   "cell_type": "code",
   "execution_count": 15,
   "metadata": {
    "Collapsed": "false"
   },
   "outputs": [],
   "source": [
    "http = urllib3.PoolManager()\n",
    "ohlcurl='https://www.alphavantage.co/query?function=TIME_SERIES_INTRADAY&interval=5min&apikey=46O5MSJ0J745T9J8&outputsize=full&symbol='\n",
    "macdurl='https://www.alphavantage.co/query?function=MACDEXT&interval=5min&series_type=open&apikey=46O5MSJ0J745T9J8&symbol='\n",
    "symbols=['TSLA','AAPL','GOOG','AMZN','AMD','HPQ','INTC','ARM']"
   ]
  },
  {
   "cell_type": "code",
   "execution_count": 16,
   "metadata": {
    "Collapsed": "false"
   },
   "outputs": [],
   "source": [
    "class Symbol:\n",
    "    def __init__(self,data,tick):\n",
    "        self.tick=tick\n",
    "        self.data=data\n",
    "    def from_url(ohlcurl,macdurl, interval,tick):\n",
    "        ohlctmp=json.loads(http.request('GET', ohlcurl).data)\n",
    "        print(ohlctmp.keys())\n",
    "        ohlcdata=ohlctmp['Time Series ('+interval+')']\n",
    "        time.sleep(12)\n",
    "        try:\n",
    "            macddata=json.loads(http.request('GET',macdurl).data)['Technical Analysis: MACDEXT']\n",
    "        except:\n",
    "            print(json.loads(http.request('GET',macdurl).data))\n",
    "        data={}\n",
    "        print(len(ohlcdata))\n",
    "        for keyo,keym in zip(list(ohlcdata.keys()),list(macddata.keys())):\n",
    "            if(keyo[:-3] in list(macddata.keys())):\n",
    "                data[keyo[:-3]]={**ohlcdata[keyo],**macddata[keyo[:-3]]}\n",
    "        time.sleep(12)\n",
    "        return Symbol(data,tick)\n",
    "    def update(self,ohlcurl,macdurl,interval):\n",
    "        ohlctmp=json.loads(http.request('GET', ohlcurl).data)\n",
    "        print(ohlctmp.keys())\n",
    "        ohlcdata=ohlctmp['Time Series ('+interval+')']\n",
    "        time.sleep(12)\n",
    "        try:\n",
    "            macddata=json.loads(http.request('GET',macdurl).data)['Technical Analysis: MACDEXT']\n",
    "        except:\n",
    "            print(json.loads(http.request('GET',macdurl).data))\n",
    "        data={}\n",
    "\n",
    "        print(len(ohlcdata))\n",
    "        for keyo,keym in zip(list(ohlcdata.keys()),list(macddata.keys())):\n",
    "            if(keyo[:-3] in list(macddata.keys())):\n",
    "                data[keyo[:-3]]={**ohlcdata[keyo],**macddata[keyo[:-3]]}\n",
    "        time.sleep(12)\n",
    "        for key in list(data.keys()):\n",
    "            if(not(key in list(self.data.keys()))):\n",
    "                self.data[key]=data[key]"
   ]
  },
  {
   "cell_type": "code",
   "execution_count": 17,
   "metadata": {
    "Collapsed": "false"
   },
   "outputs": [],
   "source": [
    "#class Manager:\n",
    "#    def __init__():"
   ]
  },
  {
   "cell_type": "code",
   "execution_count": 18,
   "metadata": {
    "Collapsed": "false",
    "scrolled": true
   },
   "outputs": [],
   "source": [
    "#symbolsdata=[Symbol.from_url(ohlcurl+x,macdurl+x,'5min',x)for x in symbols]"
   ]
  },
  {
   "cell_type": "code",
   "execution_count": 19,
   "metadata": {
    "Collapsed": "false"
   },
   "outputs": [],
   "source": [
    "with open('sdata.pkl','rb') as f:\n",
    "    symbolsdata=pk.load(f)"
   ]
  },
  {
   "cell_type": "code",
   "execution_count": 20,
   "metadata": {
    "Collapsed": "false"
   },
   "outputs": [
    {
     "name": "stdout",
     "output_type": "stream",
     "text": [
      "dict_keys(['Meta Data', 'Time Series (5min)'])\n",
      "1166\n",
      "dict_keys(['Meta Data', 'Time Series (5min)'])\n",
      "1166\n",
      "dict_keys(['Meta Data', 'Time Series (5min)'])\n",
      "1162\n",
      "dict_keys(['Meta Data', 'Time Series (5min)'])\n",
      "1162\n",
      "dict_keys(['Meta Data', 'Time Series (5min)'])\n",
      "1158\n",
      "dict_keys(['Meta Data', 'Time Series (5min)'])\n",
      "1163\n",
      "dict_keys(['Meta Data', 'Time Series (5min)'])\n",
      "1166\n",
      "dict_keys(['Meta Data', 'Time Series (5min)'])\n",
      "14\n"
     ]
    },
    {
     "data": {
      "text/plain": [
       "[None, None, None, None, None, None, None, None]"
      ]
     },
     "execution_count": 20,
     "metadata": {},
     "output_type": "execute_result"
    }
   ],
   "source": [
    "[x.update(ohlcurl+x.tick,macdurl+x.tick,'5min') for x in symbolsdata]"
   ]
  },
  {
   "cell_type": "code",
   "execution_count": 21,
   "metadata": {
    "Collapsed": "false"
   },
   "outputs": [
    {
     "data": {
      "text/plain": [
       "2849"
      ]
     },
     "execution_count": 21,
     "metadata": {},
     "output_type": "execute_result"
    }
   ],
   "source": [
    "len(symbolsdata[0].data)"
   ]
  },
  {
   "cell_type": "code",
   "execution_count": 10,
   "metadata": {
    "Collapsed": "false"
   },
   "outputs": [],
   "source": [
    "with open('sdata.pkl','wb') as f:\n",
    "    pk.dump(symbolsdata,f)"
   ]
  },
  {
   "cell_type": "code",
   "execution_count": 34,
   "metadata": {
    "Collapsed": "false"
   },
   "outputs": [
    {
     "data": {
      "text/plain": [
       "9.89236111111111"
      ]
     },
     "execution_count": 34,
     "metadata": {},
     "output_type": "execute_result"
    }
   ],
   "source": [
    "len(list(symbolsdata[0].data.keys()))/(12*24)"
   ]
  },
  {
   "cell_type": "code",
   "execution_count": 23,
   "metadata": {
    "Collapsed": "false"
   },
   "outputs": [
    {
     "data": {
      "text/plain": [
       "{'1. open': '571.9067',\n",
       " '2. high': '572.2300',\n",
       " '3. low': '567.2276',\n",
       " '4. close': '567.6950',\n",
       " '5. volume': '108993',\n",
       " 'MACD_Signal': '5.0090',\n",
       " 'MACD_Hist': '-4.3106',\n",
       " 'MACD': '0.6984'}"
      ]
     },
     "execution_count": 23,
     "metadata": {},
     "output_type": "execute_result"
    }
   ],
   "source": [
    "symbolsdata[0].data[list(symbolsdata[0].data.keys())[-1]]"
   ]
  },
  {
   "cell_type": "code",
   "execution_count": 30,
   "metadata": {
    "Collapsed": "false"
   },
   "outputs": [],
   "source": [
    "months=[[int(x.split('-')[1]), int(x.split('-')[2].split()[0])] for x in list(symbolsdata[0].data.keys())]"
   ]
  },
  {
   "cell_type": "code",
   "execution_count": 31,
   "metadata": {
    "Collapsed": "false"
   },
   "outputs": [
    {
     "data": {
      "text/plain": [
       "[1, 22]"
      ]
     },
     "execution_count": 31,
     "metadata": {},
     "output_type": "execute_result"
    }
   ],
   "source": [
    "min(months)"
   ]
  },
  {
   "cell_type": "code",
   "execution_count": 32,
   "metadata": {
    "Collapsed": "false"
   },
   "outputs": [
    {
     "data": {
      "text/plain": [
       "288"
      ]
     },
     "execution_count": 32,
     "metadata": {},
     "output_type": "execute_result"
    }
   ],
   "source": [
    "12*24"
   ]
  },
  {
   "cell_type": "code",
   "execution_count": 40,
   "metadata": {
    "Collapsed": "false"
   },
   "outputs": [
    {
     "name": "stdout",
     "output_type": "stream",
     "text": [
      "dict_keys(['Meta Data', 'Time Series (5min)'])\n",
      "1166\n",
      "dict_keys(['Meta Data', 'Time Series (5min)'])\n",
      "1166\n",
      "dict_keys(['Meta Data', 'Time Series (5min)'])\n",
      "1158\n",
      "dict_keys(['Meta Data', 'Time Series (5min)'])\n",
      "1162\n",
      "dict_keys(['Meta Data', 'Time Series (5min)'])\n",
      "1158\n",
      "dict_keys(['Meta Data', 'Time Series (5min)'])\n",
      "1163\n",
      "dict_keys(['Meta Data', 'Time Series (5min)'])\n",
      "1166\n",
      "dict_keys(['Meta Data', 'Time Series (5min)'])\n",
      "14\n"
     ]
    }
   ],
   "source": [
    "today=[[Symbol.from_url(ohlcurl+x,macdurl+x,'5min',x)for x in symbols]]\n",
    "fname='data/'+'_'.join(time.ctime().split())+'.pkl'\n",
    "with open(fname,'wb') as f:\n",
    "    pk.dump(today,f)"
   ]
  },
  {
   "cell_type": "code",
   "execution_count": 39,
   "metadata": {
    "Collapsed": "false"
   },
   "outputs": [
    {
     "data": {
      "text/plain": [
       "'Sun_Mar_15_17:13:09_2020'"
      ]
     },
     "execution_count": 39,
     "metadata": {},
     "output_type": "execute_result"
    }
   ],
   "source": [
    "'_'.join(time.ctime().split())"
   ]
  },
  {
   "cell_type": "code",
   "execution_count": null,
   "metadata": {
    "Collapsed": "false"
   },
   "outputs": [],
   "source": []
  }
 ],
 "metadata": {
  "kernelspec": {
   "display_name": "Python 3",
   "language": "python",
   "name": "python3"
  },
  "language_info": {
   "codemirror_mode": {
    "name": "ipython",
    "version": 3
   },
   "file_extension": ".py",
   "mimetype": "text/x-python",
   "name": "python",
   "nbconvert_exporter": "python",
   "pygments_lexer": "ipython3",
   "version": "3.7.4"
  }
 },
 "nbformat": 4,
 "nbformat_minor": 4
}
