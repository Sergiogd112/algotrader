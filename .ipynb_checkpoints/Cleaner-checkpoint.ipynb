{
 "cells": [
  {
   "cell_type": "code",
   "execution_count": 1,
   "metadata": {},
   "outputs": [],
   "source": [
    "import os"
   ]
  },
  {
   "cell_type": "code",
   "execution_count": 2,
   "metadata": {},
   "outputs": [],
   "source": [
    "class Cleaner:\n",
    "    def clean_empty_from_path(path):\n",
    "        files=[y for y in os.listdir(path)  if '.pkl' in y]\n",
    "        for file in files:\n",
    "            if (open(path+file,'rb').read()==b''):\n",
    "                print('file:',file,'is empty',open(path+file,'rb').read())\n",
    "                os.system('rm '+path+file)"
   ]
  },
  {
   "cell_type": "code",
   "execution_count": 3,
   "metadata": {},
   "outputs": [
    {
     "name": "stdout",
     "output_type": "stream",
     "text": [
      "file: Sat_Apr_25_15:42:29_2020.pkl is empty b''\n",
      "file: Fri_Apr_24_13:07:35_2020.pkl is empty b''\n",
      "file: Sat_Apr_25_15:18:14_2020.pkl is empty b''\n",
      "file: Thu_Apr_23_17:29:49_2020.pkl is empty b''\n",
      "file: Fri_Apr_24_11:07:57_2020.pkl is empty b''\n",
      "file: Sat_Apr_25_11:45:57_2020.pkl is empty b''\n",
      "file: Fri_Apr_24_01:08:27_2020.pkl is empty b''\n",
      "file: Fri_Apr_24_19:02:56_2020.pkl is empty b''\n",
      "file: Thu_Apr_23_23:36:32_2020.pkl is empty b''\n",
      "file: Fri_Apr_24_11:14:49_2020.pkl is empty b''\n",
      "file: Sat_Apr_25_10:28:12_2020.pkl is empty b''\n",
      "file: Fri_Apr_24_17:15:46_2020.pkl is empty b''\n",
      "file: Sat_Apr_25_14:58:05_2020.pkl is empty b''\n",
      "file: Fri_Apr_24_00:05:32_2020.pkl is empty b''\n",
      "file: Sat_Apr_25_13:24:56_2020.pkl is empty b''\n",
      "file: Thu_Apr_23_16:43:16_2020.pkl is empty b''\n",
      "file: Fri_Apr_24_23:49:14_2020.pkl is empty b''\n",
      "file: Fri_Apr_24_23:43:04_2020.pkl is empty b''\n",
      "file: Thu_Apr_23_16:02:21_2020.pkl is empty b''\n",
      "file: Sun_Apr_26_11:48:33_2020.pkl is empty b''\n",
      "file: Sat_Apr_25_03:21:32_2020.pkl is empty b''\n",
      "file: Sat_Apr_25_16:26:13_2020.pkl is empty b''\n",
      "file: Sat_Apr_25_15:01:20_2020.pkl is empty b''\n",
      "file: Sat_Apr_25_11:56:48_2020.pkl is empty b''\n",
      "file: Sun_Apr_26_11:52:31_2020.pkl is empty b''\n",
      "file: Thu_Apr_23_14:54:12_2020.pkl is empty b''\n",
      "file: Thu_Apr_23_15:55:17_2020.pkl is empty b''\n",
      "file: Sat_Apr_25_15:10:25_2020.pkl is empty b''\n",
      "file: Fri_Apr_24_17:41:23_2020.pkl is empty b''\n",
      "file: Thu_Apr_23_22:56:28_2020.pkl is empty b''\n",
      "file: Thu_Apr_23_18:28:08_2020.pkl is empty b''\n",
      "file: Thu_Apr_23_23:00:05_2020.pkl is empty b''\n"
     ]
    }
   ],
   "source": [
    "Cleaner.clean_empty_from_path('./data/')"
   ]
  },
  {
   "cell_type": "code",
   "execution_count": null,
   "metadata": {},
   "outputs": [],
   "source": []
  }
 ],
 "metadata": {
  "kernelspec": {
   "display_name": "Python 3",
   "language": "python",
   "name": "python3"
  },
  "language_info": {
   "codemirror_mode": {
    "name": "ipython",
    "version": 3
   },
   "file_extension": ".py",
   "mimetype": "text/x-python",
   "name": "python",
   "nbconvert_exporter": "python",
   "pygments_lexer": "ipython3",
   "version": "3.8.2"
  }
 },
 "nbformat": 4,
 "nbformat_minor": 4
}
