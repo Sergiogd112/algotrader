{
 "cells": [
  {
   "cell_type": "code",
   "execution_count": 3,
   "metadata": {},
   "outputs": [
    {
     "ename": "ModuleNotFoundError",
     "evalue": "No module named 'Symbol'",
     "output_type": "error",
     "traceback": [
      "\u001B[0;31m---------------------------------------------------------------------------\u001B[0m",
      "\u001B[0;31mModuleNotFoundError\u001B[0m                       Traceback (most recent call last)",
      "\u001B[0;32m<ipython-input-3-595ea355fdd9>\u001B[0m in \u001B[0;36m<module>\u001B[0;34m\u001B[0m\n\u001B[0;32m----> 1\u001B[0;31m \u001B[0;32mfrom\u001B[0m \u001B[0mSymbol\u001B[0m \u001B[0;32mimport\u001B[0m \u001B[0mSymbol\u001B[0m\u001B[0;34m\u001B[0m\u001B[0;34m\u001B[0m\u001B[0m\n\u001B[0m\u001B[1;32m      2\u001B[0m \u001B[0;32mfrom\u001B[0m \u001B[0mMerger\u001B[0m \u001B[0;32mimport\u001B[0m \u001B[0mMerger\u001B[0m\u001B[0;34m\u001B[0m\u001B[0;34m\u001B[0m\u001B[0m\n\u001B[1;32m      3\u001B[0m \u001B[0;32mimport\u001B[0m \u001B[0mnumpy\u001B[0m \u001B[0;32mas\u001B[0m \u001B[0mnp\u001B[0m\u001B[0;34m\u001B[0m\u001B[0;34m\u001B[0m\u001B[0m\n\u001B[1;32m      4\u001B[0m \u001B[0;32mimport\u001B[0m \u001B[0mpandas\u001B[0m \u001B[0;32mas\u001B[0m \u001B[0mpd\u001B[0m\u001B[0;34m\u001B[0m\u001B[0;34m\u001B[0m\u001B[0m\n\u001B[1;32m      5\u001B[0m \u001B[0;32mimport\u001B[0m \u001B[0mtime\u001B[0m\u001B[0;34m\u001B[0m\u001B[0;34m\u001B[0m\u001B[0m\n",
      "\u001B[0;31mModuleNotFoundError\u001B[0m: No module named 'Symbol'"
     ]
    }
   ],
   "source": [
    "from Symbol import Symbol\n",
    "from Merger import Merger\n",
    "import numpy as np\n",
    "import pandas as pd\n",
    "import time\n",
    "import keras as k\n",
    "from keras.models import Sequential\n",
    "from keras.layers import *\n",
    "import json\n",
    "import gc\n",
    "import os\n",
    "import pickle as pk\n",
    "\n",
    "from multiprocessing import Pool,cpu_count"
   ]
  },
  {
   "cell_type": "code",
   "execution_count": 22,
   "outputs": [
    {
     "data": {
      "text/plain": "'/home/sergio/github/algotrader'"
     },
     "execution_count": 22,
     "metadata": {},
     "output_type": "execute_result"
    }
   ],
   "source": [
    "from subprocess import check_output\n",
    "from pathlib import Path\n",
    "home = str(Path.home())\n",
    "path=check_output(['find',home+'/','-name','algotrader']).decode('utf-8')[:-1]\n",
    "os.chdir(path)"
   ],
   "metadata": {
    "collapsed": false,
    "pycharm": {
     "name": "#%%\n"
    }
   }
  },
  {
   "cell_type": "code",
   "execution_count": null,
   "outputs": [],
   "source": [
    "df=Merger.gen_df('./data/')"
   ],
   "metadata": {
    "collapsed": false,
    "pycharm": {
     "name": "#%%\n"
    }
   }
  },
  {
   "cell_type": "raw",
   "metadata": {
    "pycharm": {
     "name": "#%% raw\n"
    }
   },
   "source": [
    "path='./data/'\n",
    "files=[y for y in os.listdir(path)  if '.pkl' in y]\n",
    "for n,file in enumerate(files):\n",
    "    try:\n",
    "        pk.load(open(path+file,'rb'))\n",
    "    except Exception as e:\n",
    "        print(n,file)\n",
    "        a=e\n",
    "        print(e)"
   ]
  },
  {
   "cell_type": "code",
   "execution_count": null,
   "metadata": {},
   "outputs": [],
   "source": [
    "class Player:\n",
    "    def __init__(self,money,l,inshape=(73*3)):\n",
    "        model=Sequential()\n",
    "        model.add(Dense(inshape,inshape=inshape)\n",
    "        model.add(Dense((7,2)))\n",
    "        self.l=l\n",
    "        self.money=[0]*(l-1)+[money]\n",
    "        self.inshape=inshape\n",
    "        self.wallet=[0.0]*8\n",
    "        self.wallethist=[self.wallet]*10\n",
    "        self.hist=[]\n",
    "    def update_money(self,money):\n",
    "        self.money=[money]+self.money[:-2]\n",
    "    def gen_df(self,arr):\n",
    "        df_lstm=[row+[m]+[w] for row,m,w in zip(arr,self.money,self.wallethist)]\n",
    "        return df_lstm\n",
    "    def gen_df_player(self, lstm_pred,current,prev):\n",
    "        return np.array(lstm_pred+current+prev)\n",
    "    def act(self,arr):\n",
    "        df=self.gen_df(arr)\n",
    "        act=np.array(self.model.predict(df))\n",
    "        act=[act[:8],act[-8:]]\n",
    "        self.hist+=[df,pred]  \n",
    "        return act\n",
    "    def calc_payment(self,cost,pred):\n",
    "        to_pay=self.money*sum(pred[0])\n",
    "        to_sell=sum([stock*x*w for stock,x,w in zip(arr,pred[1],self.wallet)])\n",
    "        \n",
    "    def step(self,arr):\n",
    "        pred=self.predict(arr)\n",
    "        cost=arr[-1]\n",
    "        self.update_money(self.money[-1]-self.money[-1]*sum(pred))\n",
    "        "
   ]
  },
  {
   "cell_type": "code",
   "execution_count": 4,
   "metadata": {},
   "outputs": [],
   "source": [
    "class Predictor:\n",
    "    def __init__(self,inshape=(10,73)):\n",
    "        self.inshape=inshape\n",
    "        self.model=Predictor.gen_model(inshape)\n",
    "        \n",
    "    def gen_model(inshape):\n",
    "        model = Sequential()\n",
    "        model.add(LSTM(inshape[1],input_shape=inshape,activation='tanh',return_sequences=True))\n",
    "        model.add(LSTM(128,activation='sigmoid'))\n",
    "        model.add(Dense(128,activation='sigmoid'))\n",
    "        model.add(Dense(inshape[1]))\n",
    "        model.add(Dense(inshape[1]))\n",
    "        return model\n",
    "    def predict(self,arr):\n",
    "        return self.model.predict(arr)\n",
    "    def reset(self):\n",
    "        self.model=Predictor.gen_model(self.inshape)"
   ]
  },
  {
   "cell_type": "code",
   "execution_count": 5,
   "metadata": {},
   "outputs": [],
   "source": [
    "class World:\n",
    "    def __init__(self,df):\n",
    "        self.df=df\n",
    "    def buy(self):\n",
    "        pass\n",
    "    def sell(self):\n",
    "        pass\n",
    "        "
   ]
  },
  {
   "cell_type": "code",
   "execution_count": 6,
   "metadata": {},
   "outputs": [
    {
     "ename": "NameError",
     "evalue": "name 'Trainer' is not defined",
     "output_type": "error",
     "traceback": [
      "\u001B[0;31m---------------------------------------------------------------------------\u001B[0m",
      "\u001B[0;31mNameError\u001B[0m                                 Traceback (most recent call last)",
      "\u001B[0;32m<ipython-input-6-765152d2e7b3>\u001B[0m in \u001B[0;36m<module>\u001B[0;34m\u001B[0m\n\u001B[0;32m----> 1\u001B[0;31m \u001B[0mTrainer\u001B[0m\u001B[0;34m(\u001B[0m\u001B[0;36m200\u001B[0m\u001B[0;34m)\u001B[0m\u001B[0;34m\u001B[0m\u001B[0;34m\u001B[0m\u001B[0m\n\u001B[0m\u001B[1;32m      2\u001B[0m \u001B[0;34m\u001B[0m\u001B[0m\n",
      "\u001B[0;31mNameError\u001B[0m: name 'Trainer' is not defined"
     ]
    }
   ],
   "source": [
    "Trainer(200)"
   ]
  },
  {
   "cell_type": "code",
   "execution_count": null,
   "metadata": {},
   "outputs": [],
   "source": [
    "len(df.values[:10])"
   ]
  },
  {
   "cell_type": "code",
   "execution_count": null,
   "metadata": {},
   "outputs": [],
   "source": [
    "class Generation:\n",
    "    def __init__(self,pops,money):\n",
    "        self.pops=pops\n",
    "        self.pop=[Model() for x in range(pops)]\n",
    "    def run(self,df):\n",
    "        pass"
   ]
  },
  {
   "cell_type": "code",
   "execution_count": null,
   "metadata": {
    "collapsed": false,
    "jupyter": {
     "outputs_hidden": false
    },
    "pycharm": {
     "name": "#%%\n"
    }
   },
   "outputs": [],
   "source": [
    "test=[x for x in range(10)]"
   ]
  },
  {
   "cell_type": "code",
   "execution_count": null,
   "metadata": {
    "collapsed": false,
    "jupyter": {
     "outputs_hidden": false
    },
    "pycharm": {
     "name": "#%%\n"
    }
   },
   "outputs": [],
   "source": [
    "[test[:5],test[-5:]]"
   ]
  },
  {
   "cell_type": "code",
   "execution_count": null,
   "outputs": [],
   "source": [],
   "metadata": {
    "collapsed": false,
    "pycharm": {
     "name": "#%%\n"
    }
   }
  },
  {
   "cell_type": "code",
   "execution_count": null,
   "outputs": [],
   "source": [
    "Dense?"
   ],
   "metadata": {
    "collapsed": false,
    "pycharm": {
     "name": "#%%\n"
    }
   }
  },
  {
   "cell_type": "code",
   "execution_count": null,
   "metadata": {
    "collapsed": false,
    "jupyter": {
     "outputs_hidden": false
    },
    "pycharm": {
     "name": "#%%\n"
    }
   },
   "outputs": [],
   "source": [
    "[test[:5],test[-5:]]"
   ]
  },
  {
   "cell_type": "code",
   "execution_count": null,
   "metadata": {},
   "outputs": [],
   "source": [
    "Dense?"
   ]
  },
  {
   "cell_type": "code",
   "execution_count": null,
   "metadata": {},
   "outputs": [],
   "source": [
    "[test[:5],test[-5:]]"
   ]
  },
  {
   "cell_type": "code",
   "execution_count": null,
   "metadata": {},
   "outputs": [],
   "source": []
  }
 ],
 "metadata": {
  "kernelspec": {
   "display_name": "Python 3",
   "language": "python",
   "name": "python3"
  },
  "language_info": {
   "codemirror_mode": {
    "name": "ipython",
    "version": 3
   },
   "file_extension": ".py",
   "mimetype": "text/x-python",
   "name": "python",
   "nbconvert_exporter": "python",
   "pygments_lexer": "ipython3",
   "version": "3.7.6"
  }
 },
 "nbformat": 4,
 "nbformat_minor": 4
}